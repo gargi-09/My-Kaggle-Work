{
 "cells": [
  {
   "cell_type": "code",
   "execution_count": 1,
   "id": "be6a32fa",
   "metadata": {
    "_cell_guid": "b1076dfc-b9ad-4769-8c92-a6c4dae69d19",
    "_uuid": "8f2839f25d086af736a60e9eeb907d3b93b6e0e5",
    "execution": {
     "iopub.execute_input": "2024-10-21T20:36:10.579278Z",
     "iopub.status.busy": "2024-10-21T20:36:10.578817Z",
     "iopub.status.idle": "2024-10-21T20:36:11.486070Z",
     "shell.execute_reply": "2024-10-21T20:36:11.484930Z"
    },
    "papermill": {
     "duration": 0.919768,
     "end_time": "2024-10-21T20:36:11.488614",
     "exception": false,
     "start_time": "2024-10-21T20:36:10.568846",
     "status": "completed"
    },
    "tags": []
   },
   "outputs": [
    {
     "name": "stdout",
     "output_type": "stream",
     "text": [
      "/kaggle/input/abroad-study-cost-predictor/abroad  - Sheet1.csv\n"
     ]
    }
   ],
   "source": [
    "import numpy as np \n",
    "import pandas as pd\n",
    "\n",
    "import os\n",
    "for dirname, _, filenames in os.walk('/kaggle/input'):\n",
    "    for filename in filenames:\n",
    "        print(os.path.join(dirname, filename))"
   ]
  },
  {
   "cell_type": "markdown",
   "id": "000476ec",
   "metadata": {
    "papermill": {
     "duration": 0.006184,
     "end_time": "2024-10-21T20:36:11.501518",
     "exception": false,
     "start_time": "2024-10-21T20:36:11.495334",
     "status": "completed"
    },
    "tags": []
   },
   "source": [
    "## About Dataset\r\n",
    "This dataset provides information about the yearly fees for various courses offered by colleges and universities across different countries. The data is sourced from Jeduka.com, a platform known for providing detailed insights into educational opportunities abroad. The dataset consists of four key columnsptions."
   ]
  },
  {
   "cell_type": "markdown",
   "id": "5c6d1d18",
   "metadata": {
    "papermill": {
     "duration": 0.005914,
     "end_time": "2024-10-21T20:36:11.513698",
     "exception": false,
     "start_time": "2024-10-21T20:36:11.507784",
     "status": "completed"
    },
    "tags": []
   },
   "source": [
    "* COUNTRY: The country where the course is offered.\n",
    "* COURSE: The specific course being offered (e.g., Engineering, Medicine, Business).\n",
    "* COURSE TYPE: The type of course (e.g., Bachelor's, Master's, Diploma).\n",
    "* FEES: The yearly tuition fees for the course in the respective country (in local currency)."
   ]
  },
  {
   "cell_type": "markdown",
   "id": "ce86b3f9",
   "metadata": {
    "papermill": {
     "duration": 0.005868,
     "end_time": "2024-10-21T20:36:11.525846",
     "exception": false,
     "start_time": "2024-10-21T20:36:11.519978",
     "status": "completed"
    },
    "tags": []
   },
   "source": [
    "This dataset is ideal for those interested in comparing study costs across countries and analyzing trends in international education expenses. It can be utilized to predict and compare fees based on various parameters, helping students make informed decisions about their study abroad options."
   ]
  },
  {
   "cell_type": "markdown",
   "id": "60ad25fb",
   "metadata": {
    "papermill": {
     "duration": 0.005895,
     "end_time": "2024-10-21T20:36:11.537872",
     "exception": false,
     "start_time": "2024-10-21T20:36:11.531977",
     "status": "completed"
    },
    "tags": []
   },
   "source": [
    "## Loading Data"
   ]
  },
  {
   "cell_type": "code",
   "execution_count": 2,
   "id": "f6a759d4",
   "metadata": {
    "execution": {
     "iopub.execute_input": "2024-10-21T20:36:11.552980Z",
     "iopub.status.busy": "2024-10-21T20:36:11.551841Z",
     "iopub.status.idle": "2024-10-21T20:36:11.572994Z",
     "shell.execute_reply": "2024-10-21T20:36:11.572041Z"
    },
    "papermill": {
     "duration": 0.03152,
     "end_time": "2024-10-21T20:36:11.575664",
     "exception": false,
     "start_time": "2024-10-21T20:36:11.544144",
     "status": "completed"
    },
    "tags": []
   },
   "outputs": [],
   "source": [
    "df = pd.read_csv(\"/kaggle/input/abroad-study-cost-predictor/abroad  - Sheet1.csv\")"
   ]
  },
  {
   "cell_type": "code",
   "execution_count": 3,
   "id": "1612764d",
   "metadata": {
    "execution": {
     "iopub.execute_input": "2024-10-21T20:36:11.590157Z",
     "iopub.status.busy": "2024-10-21T20:36:11.589691Z",
     "iopub.status.idle": "2024-10-21T20:36:11.611432Z",
     "shell.execute_reply": "2024-10-21T20:36:11.610383Z"
    },
    "papermill": {
     "duration": 0.031704,
     "end_time": "2024-10-21T20:36:11.613845",
     "exception": false,
     "start_time": "2024-10-21T20:36:11.582141",
     "status": "completed"
    },
    "tags": []
   },
   "outputs": [
    {
     "data": {
      "text/html": [
       "<div>\n",
       "<style scoped>\n",
       "    .dataframe tbody tr th:only-of-type {\n",
       "        vertical-align: middle;\n",
       "    }\n",
       "\n",
       "    .dataframe tbody tr th {\n",
       "        vertical-align: top;\n",
       "    }\n",
       "\n",
       "    .dataframe thead th {\n",
       "        text-align: right;\n",
       "    }\n",
       "</style>\n",
       "<table border=\"1\" class=\"dataframe\">\n",
       "  <thead>\n",
       "    <tr style=\"text-align: right;\">\n",
       "      <th></th>\n",
       "      <th>COUNTRY</th>\n",
       "      <th>COURSE TYPE</th>\n",
       "      <th>COURSE (SPECIALIZATION)</th>\n",
       "      <th>FEES</th>\n",
       "    </tr>\n",
       "  </thead>\n",
       "  <tbody>\n",
       "    <tr>\n",
       "      <th>0</th>\n",
       "      <td>GERMANY</td>\n",
       "      <td>MBA</td>\n",
       "      <td>MBA in Sales &amp; Marketing</td>\n",
       "      <td>3678127.31</td>\n",
       "    </tr>\n",
       "    <tr>\n",
       "      <th>1</th>\n",
       "      <td>GERMANY</td>\n",
       "      <td>MBA</td>\n",
       "      <td>MBA in Banking</td>\n",
       "      <td>1253594.37</td>\n",
       "    </tr>\n",
       "    <tr>\n",
       "      <th>2</th>\n",
       "      <td>GERMANY</td>\n",
       "      <td>MBA</td>\n",
       "      <td>MBA in Business Administration</td>\n",
       "      <td>454540.69</td>\n",
       "    </tr>\n",
       "    <tr>\n",
       "      <th>3</th>\n",
       "      <td>GERMANY</td>\n",
       "      <td>MBA</td>\n",
       "      <td>MBA in Hospital/Healthcare Management</td>\n",
       "      <td>3246719.22</td>\n",
       "    </tr>\n",
       "    <tr>\n",
       "      <th>4</th>\n",
       "      <td>GERMANY</td>\n",
       "      <td>MBA</td>\n",
       "      <td>MBA in Human Resource Management</td>\n",
       "      <td>1217519.71</td>\n",
       "    </tr>\n",
       "    <tr>\n",
       "      <th>5</th>\n",
       "      <td>GERMANY</td>\n",
       "      <td>MBA</td>\n",
       "      <td>MBA in Internal Business</td>\n",
       "      <td>1442986.32</td>\n",
       "    </tr>\n",
       "    <tr>\n",
       "      <th>6</th>\n",
       "      <td>GERMANY</td>\n",
       "      <td>MBA</td>\n",
       "      <td>MBA in Supply Chain &amp; Logistics Management</td>\n",
       "      <td>1112181.71</td>\n",
       "    </tr>\n",
       "    <tr>\n",
       "      <th>7</th>\n",
       "      <td>GERMANY</td>\n",
       "      <td>MBA</td>\n",
       "      <td>MBA in General Management</td>\n",
       "      <td>1420439.66</td>\n",
       "    </tr>\n",
       "    <tr>\n",
       "      <th>8</th>\n",
       "      <td>GERMANY</td>\n",
       "      <td>MBA</td>\n",
       "      <td>MBA in Global Business Management</td>\n",
       "      <td>1339271.68</td>\n",
       "    </tr>\n",
       "    <tr>\n",
       "      <th>9</th>\n",
       "      <td>GERMANY</td>\n",
       "      <td>MBA</td>\n",
       "      <td>MBA in Entrepreneurship &amp; Leadership Management</td>\n",
       "      <td>1147174.12</td>\n",
       "    </tr>\n",
       "  </tbody>\n",
       "</table>\n",
       "</div>"
      ],
      "text/plain": [
       "   COUNTRY COURSE TYPE                          COURSE (SPECIALIZATION)  \\\n",
       "0  GERMANY         MBA                        MBA in Sales & Marketing    \n",
       "1  GERMANY         MBA                                   MBA in Banking   \n",
       "2  GERMANY         MBA                   MBA in Business Administration   \n",
       "3  GERMANY         MBA            MBA in Hospital/Healthcare Management   \n",
       "4  GERMANY         MBA                 MBA in Human Resource Management   \n",
       "5  GERMANY         MBA                         MBA in Internal Business   \n",
       "6  GERMANY         MBA       MBA in Supply Chain & Logistics Management   \n",
       "7  GERMANY         MBA                        MBA in General Management   \n",
       "8  GERMANY         MBA                MBA in Global Business Management   \n",
       "9  GERMANY         MBA  MBA in Entrepreneurship & Leadership Management   \n",
       "\n",
       "         FEES  \n",
       "0  3678127.31  \n",
       "1  1253594.37  \n",
       "2   454540.69  \n",
       "3  3246719.22  \n",
       "4  1217519.71  \n",
       "5  1442986.32  \n",
       "6  1112181.71  \n",
       "7  1420439.66  \n",
       "8  1339271.68  \n",
       "9  1147174.12  "
      ]
     },
     "execution_count": 3,
     "metadata": {},
     "output_type": "execute_result"
    }
   ],
   "source": [
    "df.head(10)"
   ]
  },
  {
   "cell_type": "markdown",
   "id": "bb2d5587",
   "metadata": {
    "papermill": {
     "duration": 0.0063,
     "end_time": "2024-10-21T20:36:11.627853",
     "exception": false,
     "start_time": "2024-10-21T20:36:11.621553",
     "status": "completed"
    },
    "tags": []
   },
   "source": [
    "## Data Preprocessing"
   ]
  },
  {
   "cell_type": "code",
   "execution_count": 4,
   "id": "c0767ae5",
   "metadata": {
    "execution": {
     "iopub.execute_input": "2024-10-21T20:36:11.643310Z",
     "iopub.status.busy": "2024-10-21T20:36:11.642333Z",
     "iopub.status.idle": "2024-10-21T20:36:11.649597Z",
     "shell.execute_reply": "2024-10-21T20:36:11.648585Z"
    },
    "papermill": {
     "duration": 0.017556,
     "end_time": "2024-10-21T20:36:11.651943",
     "exception": false,
     "start_time": "2024-10-21T20:36:11.634387",
     "status": "completed"
    },
    "tags": []
   },
   "outputs": [
    {
     "data": {
      "text/plain": [
       "(489, 4)"
      ]
     },
     "execution_count": 4,
     "metadata": {},
     "output_type": "execute_result"
    }
   ],
   "source": [
    "df.shape"
   ]
  },
  {
   "cell_type": "code",
   "execution_count": 5,
   "id": "5733f8c3",
   "metadata": {
    "execution": {
     "iopub.execute_input": "2024-10-21T20:36:11.667603Z",
     "iopub.status.busy": "2024-10-21T20:36:11.667106Z",
     "iopub.status.idle": "2024-10-21T20:36:11.695975Z",
     "shell.execute_reply": "2024-10-21T20:36:11.694532Z"
    },
    "papermill": {
     "duration": 0.03943,
     "end_time": "2024-10-21T20:36:11.698255",
     "exception": false,
     "start_time": "2024-10-21T20:36:11.658825",
     "status": "completed"
    },
    "tags": []
   },
   "outputs": [
    {
     "name": "stdout",
     "output_type": "stream",
     "text": [
      "<class 'pandas.core.frame.DataFrame'>\n",
      "RangeIndex: 489 entries, 0 to 488\n",
      "Data columns (total 4 columns):\n",
      " #   Column                   Non-Null Count  Dtype \n",
      "---  ------                   --------------  ----- \n",
      " 0   COUNTRY                  489 non-null    object\n",
      " 1   COURSE TYPE              489 non-null    object\n",
      " 2   COURSE (SPECIALIZATION)  489 non-null    object\n",
      " 3   FEES                     489 non-null    object\n",
      "dtypes: object(4)\n",
      "memory usage: 15.4+ KB\n"
     ]
    }
   ],
   "source": [
    "df.info()"
   ]
  },
  {
   "cell_type": "code",
   "execution_count": 6,
   "id": "925d84ba",
   "metadata": {
    "execution": {
     "iopub.execute_input": "2024-10-21T20:36:11.714251Z",
     "iopub.status.busy": "2024-10-21T20:36:11.713854Z",
     "iopub.status.idle": "2024-10-21T20:36:11.733109Z",
     "shell.execute_reply": "2024-10-21T20:36:11.732059Z"
    },
    "papermill": {
     "duration": 0.030038,
     "end_time": "2024-10-21T20:36:11.735423",
     "exception": false,
     "start_time": "2024-10-21T20:36:11.705385",
     "status": "completed"
    },
    "tags": []
   },
   "outputs": [
    {
     "data": {
      "text/html": [
       "<div>\n",
       "<style scoped>\n",
       "    .dataframe tbody tr th:only-of-type {\n",
       "        vertical-align: middle;\n",
       "    }\n",
       "\n",
       "    .dataframe tbody tr th {\n",
       "        vertical-align: top;\n",
       "    }\n",
       "\n",
       "    .dataframe thead th {\n",
       "        text-align: right;\n",
       "    }\n",
       "</style>\n",
       "<table border=\"1\" class=\"dataframe\">\n",
       "  <thead>\n",
       "    <tr style=\"text-align: right;\">\n",
       "      <th></th>\n",
       "      <th>COUNTRY</th>\n",
       "      <th>COURSE TYPE</th>\n",
       "      <th>COURSE (SPECIALIZATION)</th>\n",
       "      <th>FEES</th>\n",
       "    </tr>\n",
       "  </thead>\n",
       "  <tbody>\n",
       "    <tr>\n",
       "      <th>count</th>\n",
       "      <td>489</td>\n",
       "      <td>489</td>\n",
       "      <td>489</td>\n",
       "      <td>489</td>\n",
       "    </tr>\n",
       "    <tr>\n",
       "      <th>unique</th>\n",
       "      <td>11</td>\n",
       "      <td>4</td>\n",
       "      <td>189</td>\n",
       "      <td>385</td>\n",
       "    </tr>\n",
       "    <tr>\n",
       "      <th>top</th>\n",
       "      <td>GERMANY</td>\n",
       "      <td>MASTERS OF MANAGEMENT</td>\n",
       "      <td>M.ENG in Electrical</td>\n",
       "      <td>904770</td>\n",
       "    </tr>\n",
       "    <tr>\n",
       "      <th>freq</th>\n",
       "      <td>61</td>\n",
       "      <td>166</td>\n",
       "      <td>11</td>\n",
       "      <td>10</td>\n",
       "    </tr>\n",
       "  </tbody>\n",
       "</table>\n",
       "</div>"
      ],
      "text/plain": [
       "        COUNTRY            COURSE TYPE COURSE (SPECIALIZATION)    FEES\n",
       "count       489                    489                     489     489\n",
       "unique       11                      4                     189     385\n",
       "top     GERMANY  MASTERS OF MANAGEMENT     M.ENG in Electrical  904770\n",
       "freq         61                    166                      11      10"
      ]
     },
     "execution_count": 6,
     "metadata": {},
     "output_type": "execute_result"
    }
   ],
   "source": [
    "df.describe()"
   ]
  },
  {
   "cell_type": "code",
   "execution_count": 7,
   "id": "4096e023",
   "metadata": {
    "execution": {
     "iopub.execute_input": "2024-10-21T20:36:11.751715Z",
     "iopub.status.busy": "2024-10-21T20:36:11.751303Z",
     "iopub.status.idle": "2024-10-21T20:36:11.758806Z",
     "shell.execute_reply": "2024-10-21T20:36:11.757729Z"
    },
    "papermill": {
     "duration": 0.018274,
     "end_time": "2024-10-21T20:36:11.761052",
     "exception": false,
     "start_time": "2024-10-21T20:36:11.742778",
     "status": "completed"
    },
    "tags": []
   },
   "outputs": [
    {
     "data": {
      "text/plain": [
       "array(['GERMANY', 'USA', 'CANADA', 'FRANCE', 'CHINA', 'UK', 'AUSTRALIA',\n",
       "       'RUSSIA', 'SINGAPORE', 'ITALY', 'BELGIUM'], dtype=object)"
      ]
     },
     "execution_count": 7,
     "metadata": {},
     "output_type": "execute_result"
    }
   ],
   "source": [
    "df.COUNTRY.unique()"
   ]
  },
  {
   "cell_type": "code",
   "execution_count": 8,
   "id": "4ac2bcca",
   "metadata": {
    "execution": {
     "iopub.execute_input": "2024-10-21T20:36:11.777728Z",
     "iopub.status.busy": "2024-10-21T20:36:11.776903Z",
     "iopub.status.idle": "2024-10-21T20:36:11.784020Z",
     "shell.execute_reply": "2024-10-21T20:36:11.783033Z"
    },
    "papermill": {
     "duration": 0.018135,
     "end_time": "2024-10-21T20:36:11.786521",
     "exception": false,
     "start_time": "2024-10-21T20:36:11.768386",
     "status": "completed"
    },
    "tags": []
   },
   "outputs": [
    {
     "data": {
      "text/plain": [
       "array(['MBA', 'MASTERS OF MANAGEMENT', 'M.ENG', 'M.Sc'], dtype=object)"
      ]
     },
     "execution_count": 8,
     "metadata": {},
     "output_type": "execute_result"
    }
   ],
   "source": [
    "df[\"COURSE TYPE\"].unique()"
   ]
  },
  {
   "cell_type": "code",
   "execution_count": 9,
   "id": "8868179b",
   "metadata": {
    "collapsed": true,
    "execution": {
     "iopub.execute_input": "2024-10-21T20:36:11.803603Z",
     "iopub.status.busy": "2024-10-21T20:36:11.802900Z",
     "iopub.status.idle": "2024-10-21T20:36:11.812216Z",
     "shell.execute_reply": "2024-10-21T20:36:11.811198Z"
    },
    "jupyter": {
     "outputs_hidden": true
    },
    "papermill": {
     "duration": 0.020393,
     "end_time": "2024-10-21T20:36:11.814502",
     "exception": false,
     "start_time": "2024-10-21T20:36:11.794109",
     "status": "completed"
    },
    "tags": []
   },
   "outputs": [
    {
     "data": {
      "text/plain": [
       "array(['MBA in Sales & Marketing ', 'MBA in Banking',\n",
       "       'MBA in Business Administration',\n",
       "       'MBA in Hospital/Healthcare Management',\n",
       "       'MBA in Human Resource Management', 'MBA in Internal Business',\n",
       "       'MBA in Supply Chain & Logistics Management',\n",
       "       'MBA in General Management', 'MBA in Global Business Management',\n",
       "       'MBA in Entrepreneurship & Leadership Management',\n",
       "       'MBA in Tourism', 'MBA in Business Engineer', 'MBA in Finance',\n",
       "       'MBA in Accounting', 'MBA in Project Management',\n",
       "       'MBA in E-Sports Management',\n",
       "       'MASTERS OF MANAGEMENT in Hotel Management',\n",
       "       'MASTERS OF MANAGEMENT in Marketing',\n",
       "       'MASTERS OF MANAGEMENT in Event Management',\n",
       "       'MASTERS OF MANAGEMENT in Luxury & Brand',\n",
       "       'MASTERS OF MANAGEMENT in Logistics & Supply Chain ',\n",
       "       'MASTERS OF MANAGEMENT in International Business ',\n",
       "       'MASTERS OF MANAGEMENT in Supply Chain Management',\n",
       "       'MASTERS OF MANAGEMENT in Hospital/Healthcare Management',\n",
       "       'MASTERS OF MANAGEMENT in Real Estate',\n",
       "       'MASTERS OF MANAGEMENT in Human Resource Management',\n",
       "       'MASTERS OF MANAGEMENT in Risk Management',\n",
       "       'MASTERS OF MANAGEMENT in Sports,Leisure & Tourism',\n",
       "       'MASTERS OF MANAGEMENT in Eco-Design & Sustainable',\n",
       "       'MASTERS OF MANAGEMENT in Tourism',\n",
       "       'MASTERS OF MANAGEMENT in Data Analysis',\n",
       "       'MASTERS OF MANAGEMENT in Digital Marketing',\n",
       "       'MASTERS OF MANAGEMENT in Fashion Management',\n",
       "       'MASTERS OF MANAGEMENT in Media Management',\n",
       "       'MASTERS OF MANAGEMENT in Psychology Management',\n",
       "       'MASTERS OF MANAGEMENT in Public Relations Management',\n",
       "       'MASTERS OF MANAGEMENT in Sports Management',\n",
       "       'MASTERS OF MANAGEMENT in Stratergic Management',\n",
       "       'M.ENG in Mechanical', 'M.ENG in Electrical',\n",
       "       'M.ENG in Architecture', 'M.ENG in Civil ',\n",
       "       'M.ENG in IT & Networking', 'M.ENG in Chemical',\n",
       "       'M.ENG in Computer Science Engineering', 'M.ENG in Aerospace',\n",
       "       'M.ENG in Biomedical', 'M.ENG in Energy & Environment',\n",
       "       'M.ENG in Industrial', 'M.ENG in International Business',\n",
       "       'M.ENG in Production', 'M.Sc in Physics', 'M.Sc in Chemistry',\n",
       "       'M.Sc in Biology', 'M.Sc in Psychology ', 'M.Sc in Nursing',\n",
       "       'M.Sc in Environment', 'M.Sc in Agriculture',\n",
       "       'M.Sc inBusiness & Finance', 'M.Sc inI.T', 'M.Sc inData Science',\n",
       "       'MBA in Sales & Marketing', 'MBA in International Business',\n",
       "       'MBA in Executive MBA', 'MASTER OF MANAGEMENT in Hotel Management',\n",
       "       'MASTER OF MANAGEMENT in Marketing',\n",
       "       'MASTER OF MANAGEMENT in Logistics & Supply Chain ',\n",
       "       'MASTER OF MANAGEMENT in International Business ',\n",
       "       'MASTER OF MANAGEMENT in Supply Chain Management',\n",
       "       'MASTER OF MANAGEMENT in Hospital/Healthcare Management',\n",
       "       'MASTER OF MANAGEMENT in Real Estate',\n",
       "       'MASTER OF MANAGEMENT in Risk Management',\n",
       "       'MASTER OF MANAGEMENT in Sports,Leisure & Tourism',\n",
       "       'MASTER OF MANAGEMENT in Wine & Gastronomy',\n",
       "       'MASTER OF MANAGEMENT in Public Relations Management',\n",
       "       'MASTER OF MANAGEMENT in Sports Management',\n",
       "       'MASTER OF MANAGEMENT in Spriti Marketing',\n",
       "       'MASTER OF MANAGEMENT in Finance',\n",
       "       'MASTER OF MANAGEMENT in Eco-Design & Sustainable',\n",
       "       'M.ENG in Marine', 'M.ENG in Nuclear ', 'M.ENG in Nanotechnology',\n",
       "       'M.ENG in Software', 'M.ENG in Bio Engineering',\n",
       "       'M.Sc in NeuroScience', 'M.Sc in Forensic Science',\n",
       "       'M.Sc in Botany', 'M.Sc in Energy & Environment',\n",
       "       'M.Sc in Zoology', 'M.Sc in Mathematics', 'M.Sc in Geology',\n",
       "       'MBA in Marketing', 'MASTERS OF MANAGEMENT in Leadership',\n",
       "       'MASTERS OF MANAGEMENT in Business Analytics',\n",
       "       'MASTERS OF MANAGEMENT in Purchasing & resourcing',\n",
       "       'MASTERS OF MANAGEMENT in Project Management',\n",
       "       'M.ENG in Agriculture', 'M.ENG in Biology',\n",
       "       'M.ENG in Environmental', 'M.ENG in Mining', 'M.ENG in Texttile',\n",
       "       'M.Sc inChemistry', 'M.Sc inBiology', 'M.Sc inPsychology ',\n",
       "       'M.Sc inNursing', 'M.Sc inEnvironment', 'M.Sc inAgriculture',\n",
       "       'M.Sc inEnergy & Environment', 'M.Sc inZoology',\n",
       "       'M.Sc inMathematics', 'MBA inBanking',\n",
       "       'MBA inBusiness Administration', 'MBA in Gastronomy',\n",
       "       'MBA in Information Technology', 'MBA in Leadership Management',\n",
       "       'MBA in Luxury Management', 'MBA in Wine Marketing & Management',\n",
       "       'MASTERS OF MANAGEMENT in Management',\n",
       "       'MASTERS OF MANAGEMENT in Luxury and Brand',\n",
       "       'MASTERS OF MANAGEMENT in Digital Marketing & E-Business',\n",
       "       'MASTERS OF MANAGEMENT in Logistic and Supply Chain',\n",
       "       'MASTERS OF MANAGEMENT in International Corporate Finance',\n",
       "       'MASTERS OF MANAGEMENT in International Business',\n",
       "       'MASTERS OF MANAGEMENT in Human Resource ',\n",
       "       'MASTERS OF MANAGEMENT in International Sports And Event Management',\n",
       "       'M.ENG in ME/M.TECH', 'M.ENG in Electtical Engineering',\n",
       "       'M.ENG in Civil Engineering', 'M.ENG in IT Engineering',\n",
       "       'M.ENG in Computer Engineering', 'M.ENG in Aerospace Engineering',\n",
       "       'M.ENG in Business Administration', 'M.ENG in Energy Engineering',\n",
       "       'M.ENG in Food Technology', 'M.ENG in \\nIndustrial',\n",
       "       'M.ENG in Materials', 'M.ENG in \\nRisk Management',\n",
       "       'M.ENG in Transportation', 'M.Sc in Security Science',\n",
       "       'M.Sc in Business & Finance', 'MBA in Finance & Accounting',\n",
       "       'MASTERS OF MANAGEMENT in Finance',\n",
       "       'MASTERS OF MANAGEMENT in Environment', 'M.ENG in \\nArchitecture',\n",
       "       'M.ENG in \\nFood Technology',\n",
       "       'MASTERS OF MANAGEMENT in Luxury & Brand ',\n",
       "       'MASTERS OF MANAGEMENT in Communication',\n",
       "       'MASTERS OF MANAGEMENT in Banking',\n",
       "       'MASTERS OF MANAGEMENT in Entrepreneurship & Leadership Management',\n",
       "       'MASTERS OF MANAGEMENT in Fashion',\n",
       "       'MASTERS OF MANAGEMENT in Sports', 'M.ENG in Textile',\n",
       "       'M.Sc in Biotechnology', 'M.Sc in Business Analytics',\n",
       "       'MASTERS OF MANAGEMENT in Accounting',\n",
       "       'MASTERS OF MANAGEMENT in Business Administration',\n",
       "       'M.ENG in Biological', 'M.ENG in Mechatronics',\n",
       "       'M.Sc in \\nBiology', 'M.Sc in Communication',\n",
       "       'MASTER OF MANAGEMENT in Management',\n",
       "       'MASTER OF MANAGEMENT in International Business',\n",
       "       'MASTER OF MANAGEMENT in Business Administration',\n",
       "       'MASTER OF MANAGEMENT in Economics',\n",
       "       'MASTER OF MANAGEMENT in Commerce', 'M.ENG in Nuclear',\n",
       "       'MBA in Supplychain & Logistics Management',\n",
       "       'MASTERS OF MANAGEMENT in Retail',\n",
       "       'MASTERS OF MANAGEMENT in Aviation',\n",
       "       'MASTERS OF MANAGEMENT in Commerce',\n",
       "       'MASTERS OF MANAGEMENT in Operations', 'MBA in Operations',\n",
       "       'MASTERS OF MANAGEMENT in Luxury And Brand',\n",
       "       'MASTERS OF MANAGEMENT in Global Business Management',\n",
       "       'MASTERS OF MANAGEMENT in Tourism Management',\n",
       "       'MASTERS OF MANAGEMENT in ENTREPRENEURSHIP AND LEADERSHIP',\n",
       "       'M.ENG in Architechture', 'M.ENG in \\nCivil',\n",
       "       'MBA in Business Administartion',\n",
       "       'MBA in Supply Chain And Logistic',\n",
       "       'MASTERS OF MANAGEMENT in General Management',\n",
       "       'MASTERS OF MANAGEMENT in Global Management',\n",
       "       'MASTERS OF MANAGEMENT in \\nFinance',\n",
       "       'MASTERS OF MANAGEMENT in \\nInformation Technology',\n",
       "       'MASTERS OF MANAGEMENT in Business Administartion',\n",
       "       'MASTERS OF MANAGEMENT in Economics College',\n",
       "       'MASTERS OF MANAGEMENT in Entreprenuer and Leadership',\n",
       "       'M.ENG in Civil', 'M.Sc in Data Analysis'], dtype=object)"
      ]
     },
     "execution_count": 9,
     "metadata": {},
     "output_type": "execute_result"
    }
   ],
   "source": [
    "df[\"COURSE (SPECIALIZATION)\"].unique()"
   ]
  },
  {
   "cell_type": "code",
   "execution_count": 10,
   "id": "b9476035",
   "metadata": {
    "execution": {
     "iopub.execute_input": "2024-10-21T20:36:11.833042Z",
     "iopub.status.busy": "2024-10-21T20:36:11.831894Z",
     "iopub.status.idle": "2024-10-21T20:36:11.840086Z",
     "shell.execute_reply": "2024-10-21T20:36:11.839050Z"
    },
    "papermill": {
     "duration": 0.019931,
     "end_time": "2024-10-21T20:36:11.842505",
     "exception": false,
     "start_time": "2024-10-21T20:36:11.822574",
     "status": "completed"
    },
    "tags": []
   },
   "outputs": [
    {
     "data": {
      "text/plain": [
       "189"
      ]
     },
     "execution_count": 10,
     "metadata": {},
     "output_type": "execute_result"
    }
   ],
   "source": [
    "len(df[\"COURSE (SPECIALIZATION)\"].unique())"
   ]
  },
  {
   "cell_type": "code",
   "execution_count": 11,
   "id": "65390012",
   "metadata": {
    "execution": {
     "iopub.execute_input": "2024-10-21T20:36:11.860906Z",
     "iopub.status.busy": "2024-10-21T20:36:11.860096Z",
     "iopub.status.idle": "2024-10-21T20:36:11.868902Z",
     "shell.execute_reply": "2024-10-21T20:36:11.867900Z"
    },
    "papermill": {
     "duration": 0.020621,
     "end_time": "2024-10-21T20:36:11.871350",
     "exception": false,
     "start_time": "2024-10-21T20:36:11.850729",
     "status": "completed"
    },
    "tags": []
   },
   "outputs": [
    {
     "data": {
      "text/plain": [
       "COUNTRY                    0\n",
       "COURSE TYPE                0\n",
       "COURSE (SPECIALIZATION)    0\n",
       "FEES                       0\n",
       "dtype: int64"
      ]
     },
     "execution_count": 11,
     "metadata": {},
     "output_type": "execute_result"
    }
   ],
   "source": [
    "df.isnull().sum()"
   ]
  },
  {
   "cell_type": "code",
   "execution_count": 12,
   "id": "889948cc",
   "metadata": {
    "execution": {
     "iopub.execute_input": "2024-10-21T20:36:11.890229Z",
     "iopub.status.busy": "2024-10-21T20:36:11.889232Z",
     "iopub.status.idle": "2024-10-21T20:36:11.897847Z",
     "shell.execute_reply": "2024-10-21T20:36:11.896806Z"
    },
    "papermill": {
     "duration": 0.020654,
     "end_time": "2024-10-21T20:36:11.900280",
     "exception": false,
     "start_time": "2024-10-21T20:36:11.879626",
     "status": "completed"
    },
    "tags": []
   },
   "outputs": [
    {
     "data": {
      "text/plain": [
       "0"
      ]
     },
     "execution_count": 12,
     "metadata": {},
     "output_type": "execute_result"
    }
   ],
   "source": [
    "df.duplicated().sum()"
   ]
  },
  {
   "cell_type": "code",
   "execution_count": 13,
   "id": "da23541d",
   "metadata": {
    "execution": {
     "iopub.execute_input": "2024-10-21T20:36:11.919821Z",
     "iopub.status.busy": "2024-10-21T20:36:11.919085Z",
     "iopub.status.idle": "2024-10-21T20:36:11.945129Z",
     "shell.execute_reply": "2024-10-21T20:36:11.944119Z"
    },
    "papermill": {
     "duration": 0.038784,
     "end_time": "2024-10-21T20:36:11.947471",
     "exception": false,
     "start_time": "2024-10-21T20:36:11.908687",
     "status": "completed"
    },
    "tags": []
   },
   "outputs": [
    {
     "data": {
      "text/html": [
       "<div>\n",
       "<style scoped>\n",
       "    .dataframe tbody tr th:only-of-type {\n",
       "        vertical-align: middle;\n",
       "    }\n",
       "\n",
       "    .dataframe tbody tr th {\n",
       "        vertical-align: top;\n",
       "    }\n",
       "\n",
       "    .dataframe thead th {\n",
       "        text-align: right;\n",
       "    }\n",
       "</style>\n",
       "<table border=\"1\" class=\"dataframe\">\n",
       "  <thead>\n",
       "    <tr style=\"text-align: right;\">\n",
       "      <th></th>\n",
       "      <th>COUNTRY</th>\n",
       "      <th>FEES</th>\n",
       "      <th>COURSE TYPE</th>\n",
       "    </tr>\n",
       "  </thead>\n",
       "  <tbody>\n",
       "    <tr>\n",
       "      <th>0</th>\n",
       "      <td>AUSTRALIA</td>\n",
       "      <td>3660048.53</td>\n",
       "      <td>MBA</td>\n",
       "    </tr>\n",
       "    <tr>\n",
       "      <th>7</th>\n",
       "      <td>RUSSIA</td>\n",
       "      <td>494819.06</td>\n",
       "      <td>MBA</td>\n",
       "    </tr>\n",
       "    <tr>\n",
       "      <th>9</th>\n",
       "      <td>UK</td>\n",
       "      <td>686706.08</td>\n",
       "      <td>MBA</td>\n",
       "    </tr>\n",
       "    <tr>\n",
       "      <th>8</th>\n",
       "      <td>SINGAPORE</td>\n",
       "      <td>817062.43</td>\n",
       "      <td>MBA</td>\n",
       "    </tr>\n",
       "    <tr>\n",
       "      <th>10</th>\n",
       "      <td>USA</td>\n",
       "      <td>877568.94</td>\n",
       "      <td>MBA</td>\n",
       "    </tr>\n",
       "    <tr>\n",
       "      <th>1</th>\n",
       "      <td>BELGIUM</td>\n",
       "      <td>90340</td>\n",
       "      <td>MBA</td>\n",
       "    </tr>\n",
       "    <tr>\n",
       "      <th>3</th>\n",
       "      <td>CHINA</td>\n",
       "      <td>908534.05</td>\n",
       "      <td>MBA</td>\n",
       "    </tr>\n",
       "    <tr>\n",
       "      <th>4</th>\n",
       "      <td>FRANCE</td>\n",
       "      <td>981415.32</td>\n",
       "      <td>MBA</td>\n",
       "    </tr>\n",
       "    <tr>\n",
       "      <th>5</th>\n",
       "      <td>GERMANY</td>\n",
       "      <td>986647.13</td>\n",
       "      <td>MBA</td>\n",
       "    </tr>\n",
       "    <tr>\n",
       "      <th>6</th>\n",
       "      <td>ITALY</td>\n",
       "      <td>993437.46</td>\n",
       "      <td>MBA</td>\n",
       "    </tr>\n",
       "    <tr>\n",
       "      <th>2</th>\n",
       "      <td>CANADA</td>\n",
       "      <td>994501.12</td>\n",
       "      <td>MBA</td>\n",
       "    </tr>\n",
       "  </tbody>\n",
       "</table>\n",
       "</div>"
      ],
      "text/plain": [
       "      COUNTRY        FEES COURSE TYPE\n",
       "0   AUSTRALIA  3660048.53         MBA\n",
       "7      RUSSIA   494819.06         MBA\n",
       "9          UK   686706.08         MBA\n",
       "8   SINGAPORE   817062.43         MBA\n",
       "10        USA   877568.94         MBA\n",
       "1     BELGIUM       90340         MBA\n",
       "3       CHINA   908534.05         MBA\n",
       "4      FRANCE   981415.32         MBA\n",
       "5     GERMANY   986647.13         MBA\n",
       "6       ITALY   993437.46         MBA\n",
       "2      CANADA   994501.12         MBA"
      ]
     },
     "execution_count": 13,
     "metadata": {},
     "output_type": "execute_result"
    }
   ],
   "source": [
    "g_d = df.groupby('COUNTRY')[['FEES', 'COURSE TYPE']].max().reset_index().sort_values(by ='FEES')\n",
    "g_d.head(60)"
   ]
  },
  {
   "cell_type": "code",
   "execution_count": null,
   "id": "16e336f6",
   "metadata": {
    "papermill": {
     "duration": 0.008384,
     "end_time": "2024-10-21T20:36:11.964563",
     "exception": false,
     "start_time": "2024-10-21T20:36:11.956179",
     "status": "completed"
    },
    "tags": []
   },
   "outputs": [],
   "source": []
  }
 ],
 "metadata": {
  "kaggle": {
   "accelerator": "none",
   "dataSources": [
    {
     "datasetId": 5806370,
     "sourceId": 9533657,
     "sourceType": "datasetVersion"
    }
   ],
   "dockerImageVersionId": 30786,
   "isGpuEnabled": false,
   "isInternetEnabled": true,
   "language": "python",
   "sourceType": "notebook"
  },
  "kernelspec": {
   "display_name": "Python 3",
   "language": "python",
   "name": "python3"
  },
  "language_info": {
   "codemirror_mode": {
    "name": "ipython",
    "version": 3
   },
   "file_extension": ".py",
   "mimetype": "text/x-python",
   "name": "python",
   "nbconvert_exporter": "python",
   "pygments_lexer": "ipython3",
   "version": "3.10.14"
  },
  "papermill": {
   "default_parameters": {},
   "duration": 4.787185,
   "end_time": "2024-10-21T20:36:12.393552",
   "environment_variables": {},
   "exception": null,
   "input_path": "__notebook__.ipynb",
   "output_path": "__notebook__.ipynb",
   "parameters": {},
   "start_time": "2024-10-21T20:36:07.606367",
   "version": "2.6.0"
  }
 },
 "nbformat": 4,
 "nbformat_minor": 5
}
